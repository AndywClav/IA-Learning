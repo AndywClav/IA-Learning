{
 "cells": [
  {
   "cell_type": "code",
   "execution_count": null,
   "id": "3b36f864",
   "metadata": {},
   "outputs": [],
   "source": [
    "%pip install anthropic python-dotenv\n",
    "\n",
    "from dotenv import load_dotenv\n",
    "from anthropic import Anthropic\n",
    "\n",
    "load_dotenv()"
   ]
  },
  {
   "cell_type": "code",
   "execution_count": 2,
   "id": "27dc8167",
   "metadata": {},
   "outputs": [],
   "source": [
    "def add_to_message(role: str, text: str, messages: list) -> None:\n",
    "    add_message: dict = {\n",
    "        \"role\": role,\n",
    "        \"content\": text\n",
    "    }\n",
    "\n",
    "    messages.append(add_message)\n"
   ]
  },
  {
   "cell_type": "code",
   "execution_count": 3,
   "id": "7f5ee460",
   "metadata": {},
   "outputs": [],
   "source": [
    "def chat(messages: dict) -> str:\n",
    "    message: client = client.messages.create(\n",
    "        model = \"claude-sonnet-4-0\",\n",
    "        max_tokens = 1000,\n",
    "        messages = messages,\n",
    "    )\n",
    "    \n",
    "    return message.content[0].text"
   ]
  },
  {
   "cell_type": "markdown",
   "id": "cb117264",
   "metadata": {},
   "source": [
    "# Explanation of the Code"
   ]
  },
  {
   "cell_type": "markdown",
   "id": "b2785dd8",
   "metadata": {},
   "source": [
    "- Created a loop to simulate an app where a user talks with the agent, and the agent provides the response"
   ]
  },
  {
   "cell_type": "code",
   "execution_count": null,
   "id": "7f3fc2ef",
   "metadata": {},
   "outputs": [],
   "source": [
    "client = Anthropic()\n",
    "messages: list = []\n",
    "i: int = 0\n",
    "\n",
    "while i < 2:\n",
    "    ask = input(\"> \")\n",
    "    add_to_message(\"user\", ask, messages)\n",
    "\n",
    "    response = chat(messages)\n",
    "    print(f\"> {ask}\")\n",
    "    print(f\"\"\"\n",
    "    ----\n",
    "    {response}\n",
    "    ----\n",
    "    \"\"\")\n",
    "\n",
    "    if i < 1:\n",
    "        add_to_message(\"assistant\", response, messages)\n",
    "    \n",
    "    i = i + 1"
   ]
  }
 ],
 "metadata": {
  "kernelspec": {
   "display_name": ".venv",
   "language": "python",
   "name": "python3"
  },
  "language_info": {
   "codemirror_mode": {
    "name": "ipython",
    "version": 3
   },
   "file_extension": ".py",
   "mimetype": "text/x-python",
   "name": "python",
   "nbconvert_exporter": "python",
   "pygments_lexer": "ipython3",
   "version": "3.13.1"
  }
 },
 "nbformat": 4,
 "nbformat_minor": 5
}
