{
 "cells": [
  {
   "cell_type": "markdown",
   "id": "8185e19d",
   "metadata": {},
   "source": [
    "# Explanation of the Code"
   ]
  },
  {
   "cell_type": "markdown",
   "id": "ce597d8a",
   "metadata": {},
   "source": [
    "- Updating the ***PIP*** package manager"
   ]
  },
  {
   "cell_type": "code",
   "execution_count": null,
   "id": "3effc92d",
   "metadata": {},
   "outputs": [],
   "source": [
    "%pip install --upgrade pip"
   ]
  },
  {
   "cell_type": "markdown",
   "id": "049f175f",
   "metadata": {},
   "source": [
    "- Installation of dependencies"
   ]
  },
  {
   "cell_type": "code",
   "execution_count": null,
   "id": "6c0b2b00",
   "metadata": {},
   "outputs": [],
   "source": [
    "%pip install anthropic python-dotenv"
   ]
  },
  {
   "cell_type": "markdown",
   "id": "f862d087",
   "metadata": {},
   "source": [
    "- Configuration to use environment variables"
   ]
  },
  {
   "cell_type": "code",
   "execution_count": null,
   "id": "5fca444a",
   "metadata": {},
   "outputs": [],
   "source": [
    "from dotenv import load_dotenv\n",
    "import os\n",
    "\n",
    "load_dotenv()"
   ]
  },
  {
   "cell_type": "markdown",
   "id": "4bffecfc",
   "metadata": {},
   "source": [
    "- Validation to check if we are reading the environment variables"
   ]
  },
  {
   "cell_type": "code",
   "execution_count": null,
   "id": "21d904bc",
   "metadata": {},
   "outputs": [],
   "source": [
    "api_key = os.getenv(\"ANTHROPIC_API_KEY\")\n",
    "api_key"
   ]
  },
  {
   "cell_type": "markdown",
   "id": "cc24b09f",
   "metadata": {},
   "source": [
    "- We import the Anthropic library"
   ]
  },
  {
   "cell_type": "code",
   "execution_count": null,
   "id": "bf9afcba",
   "metadata": {},
   "outputs": [],
   "source": [
    "from anthropic import Anthropic"
   ]
  },
  {
   "cell_type": "markdown",
   "id": "24601306",
   "metadata": {},
   "source": [
    "- We create an instance of the Anthropic library\n",
    "- We configure everything necessary to interact with the Anthropic API"
   ]
  },
  {
   "cell_type": "code",
   "execution_count": null,
   "id": "a0ffc0b0",
   "metadata": {},
   "outputs": [],
   "source": [
    "client = Anthropic()\n",
    "\n",
    "model = \"claude-sonnet-4-0\"\n",
    "max_tokens = 1000\n",
    "messages = [{\n",
    "    \"role\": \"user\",\n",
    "    \"content\": \"Message for the IA\"\n",
    "}]"
   ]
  },
  {
   "cell_type": "markdown",
   "id": "9c104a76",
   "metadata": {},
   "source": [
    "- We send the message to the API and get the response"
   ]
  },
  {
   "cell_type": "code",
   "execution_count": 25,
   "id": "bd136653",
   "metadata": {},
   "outputs": [],
   "source": [
    "message = client.messages.create(\n",
    "    model = model,\n",
    "    max_tokens = max_tokens,\n",
    "    messages = messages\n",
    ")"
   ]
  },
  {
   "cell_type": "markdown",
   "id": "9ee2a66b",
   "metadata": {},
   "source": [
    "- We get the message and display it on the screen"
   ]
  },
  {
   "cell_type": "code",
   "execution_count": null,
   "id": "d7b0168a",
   "metadata": {},
   "outputs": [],
   "source": [
    "response = message.content[0].text\n",
    "print(response)"
   ]
  }
 ],
 "metadata": {
  "kernelspec": {
   "display_name": ".venv",
   "language": "python",
   "name": "python3"
  },
  "language_info": {
   "codemirror_mode": {
    "name": "ipython",
    "version": 3
   },
   "file_extension": ".py",
   "mimetype": "text/x-python",
   "name": "python",
   "nbconvert_exporter": "python",
   "pygments_lexer": "ipython3",
   "version": "3.13.1"
  }
 },
 "nbformat": 4,
 "nbformat_minor": 5
}
