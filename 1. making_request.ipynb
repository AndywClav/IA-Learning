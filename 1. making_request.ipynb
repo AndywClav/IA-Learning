{
 "cells": [
  {
   "cell_type": "markdown",
   "id": "8185e19d",
   "metadata": {},
   "source": [
    "# Explicacion del Código"
   ]
  },
  {
   "cell_type": "markdown",
   "id": "ce597d8a",
   "metadata": {},
   "source": [
    "- Actualizacion del gestor de paquetes ***PIP***"
   ]
  },
  {
   "cell_type": "code",
   "execution_count": null,
   "id": "3effc92d",
   "metadata": {},
   "outputs": [],
   "source": [
    "%pip install --upgrade pip"
   ]
  },
  {
   "cell_type": "markdown",
   "id": "049f175f",
   "metadata": {},
   "source": [
    "- Instalación de dependecias "
   ]
  },
  {
   "cell_type": "code",
   "execution_count": null,
   "id": "6c0b2b00",
   "metadata": {},
   "outputs": [],
   "source": [
    "%pip install anthropic python-dotenv"
   ]
  },
  {
   "cell_type": "markdown",
   "id": "f862d087",
   "metadata": {},
   "source": [
    "- Configuracion para usar las variables de entorno"
   ]
  },
  {
   "cell_type": "code",
   "execution_count": null,
   "id": "5fca444a",
   "metadata": {},
   "outputs": [],
   "source": [
    "from dotenv import load_dotenv\n",
    "import os\n",
    "\n",
    "load_dotenv()"
   ]
  },
  {
   "cell_type": "markdown",
   "id": "4bffecfc",
   "metadata": {},
   "source": [
    "- Validacion para saber si estamos leyendo las variables de entorno"
   ]
  },
  {
   "cell_type": "code",
   "execution_count": null,
   "id": "21d904bc",
   "metadata": {},
   "outputs": [],
   "source": [
    "api_key = os.getenv(\"ANTHROPIC_API_KEY\")\n",
    "api_key"
   ]
  },
  {
   "cell_type": "markdown",
   "id": "cc24b09f",
   "metadata": {},
   "source": [
    "- Importamos la libreria de Anthropic"
   ]
  },
  {
   "cell_type": "code",
   "execution_count": null,
   "id": "bf9afcba",
   "metadata": {},
   "outputs": [],
   "source": [
    "from anthropic import Anthropic"
   ]
  },
  {
   "cell_type": "markdown",
   "id": "24601306",
   "metadata": {},
   "source": [
    "- Creamos una instacia de la libreria de Anthropic\n",
    "- Configuramos todo lo necesario para poder interactuar con la API de Anthropic"
   ]
  },
  {
   "cell_type": "code",
   "execution_count": null,
   "id": "a0ffc0b0",
   "metadata": {},
   "outputs": [],
   "source": [
    "client = Anthropic()\n",
    "\n",
    "model = \"claude-sonnet-4-0\"\n",
    "max_tokens = 1000\n",
    "messages = [{\n",
    "    \"role\": \"user\",\n",
    "    \"content\": \"Message for the IA\"\n",
    "}]"
   ]
  },
  {
   "cell_type": "markdown",
   "id": "9c104a76",
   "metadata": {},
   "source": [
    "- Enviamos el mensaje a la API y obtenemos la respuestesta"
   ]
  },
  {
   "cell_type": "code",
   "execution_count": null,
   "id": "bd136653",
   "metadata": {},
   "outputs": [],
   "source": [
    "message = client.messages.create(\n",
    "    model=model,\n",
    "    max_tokens=max_tokens,\n",
    "    messages=messages\n",
    ")"
   ]
  },
  {
   "cell_type": "markdown",
   "id": "9ee2a66b",
   "metadata": {},
   "source": [
    "- Obtenemos el mensaje y lo mostramos por pantalla"
   ]
  },
  {
   "cell_type": "code",
   "execution_count": null,
   "id": "d7b0168a",
   "metadata": {},
   "outputs": [],
   "source": [
    "response = message.content[0].text\n",
    "print(response)"
   ]
  }
 ],
 "metadata": {
  "kernelspec": {
   "display_name": ".venv",
   "language": "python",
   "name": "python3"
  },
  "language_info": {
   "codemirror_mode": {
    "name": "ipython",
    "version": 3
   },
   "file_extension": ".py",
   "mimetype": "text/x-python",
   "name": "python",
   "nbconvert_exporter": "python",
   "pygments_lexer": "ipython3",
   "version": "3.13.1"
  }
 },
 "nbformat": 4,
 "nbformat_minor": 5
}
