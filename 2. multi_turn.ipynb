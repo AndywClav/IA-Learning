{
 "cells": [
  {
   "cell_type": "code",
   "execution_count": null,
   "id": "425c49c1",
   "metadata": {},
   "outputs": [],
   "source": [
    "%pip install --upgrade pip"
   ]
  },
  {
   "cell_type": "code",
   "execution_count": null,
   "id": "b1531f36",
   "metadata": {},
   "outputs": [],
   "source": [
    "%pip install anthropic python-dotenv"
   ]
  },
  {
   "cell_type": "code",
   "execution_count": null,
   "id": "d09fe7cb",
   "metadata": {},
   "outputs": [],
   "source": [
    "from dotenv import load_dotenv\n",
    "from anthropic import Anthropic\n",
    "\n",
    "load_dotenv()"
   ]
  },
  {
   "cell_type": "markdown",
   "id": "708363ca",
   "metadata": {},
   "source": [
    "# Explicacion del Código"
   ]
  },
  {
   "cell_type": "markdown",
   "id": "6d9500df",
   "metadata": {},
   "source": [
    "- Creación de la función del usuario"
   ]
  },
  {
   "cell_type": "code",
   "execution_count": null,
   "id": "0806f24f",
   "metadata": {},
   "outputs": [],
   "source": [
    "def add_user_message(messages: list, text: str) -> None:\n",
    "    add_message: dict = {\n",
    "        \"role\": \"user\",\n",
    "        \"content\": text\n",
    "    }\n",
    "\n",
    "    messages.append(add_message)"
   ]
  },
  {
   "cell_type": "markdown",
   "id": "c503cc7d",
   "metadata": {},
   "source": [
    "- Creación de la función del asistente"
   ]
  },
  {
   "cell_type": "code",
   "execution_count": null,
   "id": "bb6e2cfc",
   "metadata": {},
   "outputs": [],
   "source": [
    "def add_assistant_message(messages: list, text: str) -> None:\n",
    "    add_message: dict = {\n",
    "        \"role\": \"assistant\",\n",
    "        \"content\": text\n",
    "    }\n",
    "\n",
    "    messages.append(add_message)"
   ]
  },
  {
   "cell_type": "markdown",
   "id": "e9d35ed2",
   "metadata": {},
   "source": [
    "- Creación de la función de chat\n",
    "- Nos permite recibir los mensajes de los diferentes roles y retorna el mensaje"
   ]
  },
  {
   "cell_type": "code",
   "execution_count": null,
   "id": "7e71e59b",
   "metadata": {},
   "outputs": [],
   "source": [
    "def chat(messages: dict) -> str:\n",
    "    message: client = client.messages.create(\n",
    "        model = \"claude-sonnet-4-0\",\n",
    "        max_tokens = 1000,\n",
    "        messages = messages,\n",
    "    )\n",
    "    return message.content[0].text"
   ]
  },
  {
   "cell_type": "markdown",
   "id": "33bd7890",
   "metadata": {},
   "source": [
    "- Creamos una instacia de la libreria de Anthropic\n",
    "- Creamos una lista para guardar los mensajes generados"
   ]
  },
  {
   "cell_type": "code",
   "execution_count": null,
   "id": "5420d95c",
   "metadata": {},
   "outputs": [],
   "source": [
    "client = Anthropic()\n",
    "\n",
    "messages = []"
   ]
  },
  {
   "cell_type": "markdown",
   "id": "886cf1ad",
   "metadata": {},
   "source": [
    "- Creamos el primer mensaje"
   ]
  },
  {
   "cell_type": "code",
   "execution_count": null,
   "id": "78686708",
   "metadata": {},
   "outputs": [],
   "source": [
    "\n",
    "add_user_message(messages, \"Hola, me llamo Andywclav, un gusto conocerte\")"
   ]
  },
  {
   "cell_type": "markdown",
   "id": "1b108a23",
   "metadata": {},
   "source": [
    "- El mensaje generado lo mandamos al chat para obtener una respuesta\n",
    "- Esa respuesta la imprime en pantalla"
   ]
  },
  {
   "cell_type": "code",
   "execution_count": null,
   "id": "60c3dbb4",
   "metadata": {},
   "outputs": [],
   "source": [
    "answer = chat(messages)\n",
    "print(answer)"
   ]
  },
  {
   "cell_type": "markdown",
   "id": "deb1c334",
   "metadata": {},
   "source": [
    "- La respuesta generada por el asistente, la guardamos en una variable para almacenarlo en nuestra lista para que la IA tenga todo el contexto de la conversación "
   ]
  },
  {
   "cell_type": "code",
   "execution_count": null,
   "id": "d97040c5",
   "metadata": {},
   "outputs": [],
   "source": [
    "add_assistant_message(messages, answer)"
   ]
  },
  {
   "cell_type": "markdown",
   "id": "04b8fad4",
   "metadata": {},
   "source": [
    "- Respondemos el mensaje generado por la IA"
   ]
  },
  {
   "cell_type": "code",
   "execution_count": null,
   "id": "4f8cb430",
   "metadata": {},
   "outputs": [],
   "source": [
    "add_user_message(messages, \"En nada, estoy probando tu API Claude\")"
   ]
  },
  {
   "cell_type": "markdown",
   "id": "3dacbaad",
   "metadata": {},
   "source": [
    "- El modelo responde de nuevo con el contexto de la conversación "
   ]
  },
  {
   "cell_type": "code",
   "execution_count": null,
   "id": "27f2b8ed",
   "metadata": {},
   "outputs": [],
   "source": [
    "final_answer = chat(messages)\n",
    "print(final_answer)"
   ]
  }
 ],
 "metadata": {
  "kernelspec": {
   "display_name": ".venv",
   "language": "python",
   "name": "python3"
  },
  "language_info": {
   "codemirror_mode": {
    "name": "ipython",
    "version": 3
   },
   "file_extension": ".py",
   "mimetype": "text/x-python",
   "name": "python",
   "nbconvert_exporter": "python",
   "pygments_lexer": "ipython3",
   "version": "3.13.1"
  }
 },
 "nbformat": 4,
 "nbformat_minor": 5
}
