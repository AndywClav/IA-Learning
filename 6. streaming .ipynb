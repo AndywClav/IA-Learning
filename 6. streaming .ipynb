{
 "cells": [
  {
   "cell_type": "code",
   "execution_count": null,
   "id": "5cc2c39e",
   "metadata": {},
   "outputs": [],
   "source": [
    "%pip install anthropic python-dotenv\n",
    "\n",
    "from dotenv import load_dotenv\n",
    "from anthropic import Anthropic\n",
    "\n",
    "load_dotenv()"
   ]
  },
  {
   "cell_type": "code",
   "execution_count": 2,
   "id": "55a40245",
   "metadata": {},
   "outputs": [],
   "source": [
    "def add_to_message(role: str, text: str, messages: list) -> None:\n",
    "    add_message: dict = {\n",
    "        \"role\": role,\n",
    "        \"content\": text\n",
    "    }\n",
    "\n",
    "    messages.append(add_message)"
   ]
  },
  {
   "cell_type": "markdown",
   "id": "7e2d9cc6",
   "metadata": {},
   "source": [
    "# Explanation of the Code"
   ]
  },
  {
   "cell_type": "markdown",
   "id": "e3044e21",
   "metadata": {},
   "source": [
    "- Habilyte to use in the create function.\n",
    "- Stream is used to process and return the message step by step in real-time."
   ]
  },
  {
   "cell_type": "code",
   "execution_count": 3,
   "id": "6a7d763e",
   "metadata": {},
   "outputs": [],
   "source": [
    "def chat(messages: dict, system: str = None, temperature: float = 0.0) -> str:\n",
    "    params = {\n",
    "        \"model\": \"claude-sonnet-4-0\",\n",
    "        \"max_tokens\": 1000,\n",
    "        \"messages\": messages,\n",
    "        \"temperature\": temperature,\n",
    "        \"stream\": True\n",
    "    }\n",
    "\n",
    "    if system:\n",
    "        params[\"system\"] = system\n",
    "\n",
    "    message: client = client.messages.create(**params)\n",
    "    \n",
    "    return message"
   ]
  },
  {
   "cell_type": "code",
   "execution_count": 4,
   "id": "ec2658ad",
   "metadata": {},
   "outputs": [],
   "source": [
    "client = Anthropic()\n",
    "messages: list = []"
   ]
  },
  {
   "cell_type": "markdown",
   "id": "c2dde7b8",
   "metadata": {},
   "source": [
    "- The response is put in a loop to print each event. "
   ]
  },
  {
   "cell_type": "code",
   "execution_count": null,
   "id": "cd3d44d7",
   "metadata": {},
   "outputs": [],
   "source": [
    "ask = input(\"> \")\n",
    "add_to_message(\"user\", ask, messages)\n",
    "\n",
    "response = chat(messages)\n",
    "\n",
    "print(f\"> {ask}\")\n",
    "\n",
    "for event in response:\n",
    "    print(event)"
   ]
  },
  {
   "cell_type": "markdown",
   "id": "69fca137",
   "metadata": {},
   "source": [
    "- Use with to manage the context of the stream. In Python, with is used to wrap the execution of a block of code inside a context manager, ensuring that resources are properly managed (e.g., opening and closing files, handling network connections). In this case, it manages the connection to the message stream."
   ]
  },
  {
   "cell_type": "code",
   "execution_count": null,
   "id": "0c924dae",
   "metadata": {},
   "outputs": [],
   "source": [
    "with client.messages.stream(\n",
    "    model = \"claude-sonnet-4-0\",\n",
    "    max_tokens = 1000,\n",
    "    messages = messages\n",
    ") as stream:\n",
    "    for text in stream.text_stream:\n",
    "        print(text, end=\"\")"
   ]
  },
  {
   "cell_type": "markdown",
   "id": "498b9152",
   "metadata": {},
   "source": [
    "- The final variable is used to send the message once it’s finished, and store it in the database if necessary."
   ]
  },
  {
   "cell_type": "code",
   "execution_count": null,
   "id": "f2610e27",
   "metadata": {},
   "outputs": [],
   "source": [
    "with client.messages.stream(\n",
    "    model = \"claude-sonnet-4-0\",\n",
    "    max_tokens = 1000,\n",
    "    messages = messages\n",
    ") as stream:\n",
    "    for text in stream.text_stream:\n",
    "        print(text, end=\"\")\n",
    "        pass\n",
    "    \n",
    "    final_message = stream.get_final_message()\n",
    "    print(final_message.content[0].text)"
   ]
  }
 ],
 "metadata": {
  "kernelspec": {
   "display_name": ".venv",
   "language": "python",
   "name": "python3"
  },
  "language_info": {
   "codemirror_mode": {
    "name": "ipython",
    "version": 3
   },
   "file_extension": ".py",
   "mimetype": "text/x-python",
   "name": "python",
   "nbconvert_exporter": "python",
   "pygments_lexer": "ipython3",
   "version": "3.13.1"
  }
 },
 "nbformat": 4,
 "nbformat_minor": 5
}
