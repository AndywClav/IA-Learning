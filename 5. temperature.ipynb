{
 "cells": [
  {
   "cell_type": "code",
   "execution_count": null,
   "id": "5cc2c39e",
   "metadata": {},
   "outputs": [],
   "source": [
    "%pip install anthropic python-dotenv\n",
    "\n",
    "from dotenv import load_dotenv\n",
    "from anthropic import Anthropic\n",
    "\n",
    "load_dotenv()"
   ]
  },
  {
   "cell_type": "code",
   "execution_count": null,
   "id": "55a40245",
   "metadata": {},
   "outputs": [],
   "source": [
    "def add_to_message(role: str, text: str, messages: list) -> None:\n",
    "    add_message: dict = {\n",
    "        \"role\": role,\n",
    "        \"content\": text\n",
    "    }\n",
    "\n",
    "    messages.append(add_message)"
   ]
  },
  {
   "cell_type": "markdown",
   "id": "7e2d9cc6",
   "metadata": {},
   "source": [
    "# Explanation of the Code"
   ]
  },
  {
   "cell_type": "markdown",
   "id": "16774093",
   "metadata": {},
   "source": [
    "- We adjust the temperature so the model can respond more freely or more neutrally"
   ]
  },
  {
   "cell_type": "code",
   "execution_count": null,
   "id": "6a7d763e",
   "metadata": {},
   "outputs": [],
   "source": [
    "def chat(messages: dict, system: str = None, temperature: float = 0.0) -> str:\n",
    "    params = {\n",
    "        \"model\": \"claude-sonnet-4-0\",\n",
    "        \"max_tokens\": 1000,\n",
    "        \"messages\": messages,\n",
    "        \"temperature\": temperature\n",
    "    }\n",
    "\n",
    "    if system:\n",
    "        params[\"system\"] = system\n",
    "\n",
    "    message: client = client.messages.create(**params)\n",
    "    \n",
    "    return message.content[0].text"
   ]
  },
  {
   "cell_type": "code",
   "execution_count": null,
   "id": "ec2658ad",
   "metadata": {},
   "outputs": [],
   "source": [
    "client = Anthropic()\n",
    "messages: list = []"
   ]
  },
  {
   "cell_type": "code",
   "execution_count": null,
   "id": "cd3d44d7",
   "metadata": {},
   "outputs": [],
   "source": [
    "ask = input(\"> \")\n",
    "add_to_message(\"user\", ask, messages)\n",
    "\n",
    "response = chat(messages)\n",
    "\n",
    "print(f\"> {ask}\")\n",
    "response"
   ]
  }
 ],
 "metadata": {
  "kernelspec": {
   "display_name": ".venv",
   "language": "python",
   "name": "python3"
  },
  "language_info": {
   "codemirror_mode": {
    "name": "ipython",
    "version": 3
   },
   "file_extension": ".py",
   "mimetype": "text/x-python",
   "name": "python",
   "nbconvert_exporter": "python",
   "pygments_lexer": "ipython3",
   "version": "3.13.1"
  }
 },
 "nbformat": 4,
 "nbformat_minor": 5
}
